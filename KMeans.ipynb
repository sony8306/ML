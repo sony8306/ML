{
  "nbformat": 4,
  "nbformat_minor": 0,
  "metadata": {
    "colab": {
      "provenance": [],
      "authorship_tag": "ABX9TyPIt92gAfhidp3+IBKSeDr+",
      "include_colab_link": true
    },
    "kernelspec": {
      "name": "python3",
      "display_name": "Python 3"
    },
    "language_info": {
      "name": "python"
    }
  },
  "cells": [
    {
      "cell_type": "markdown",
      "metadata": {
        "id": "view-in-github",
        "colab_type": "text"
      },
      "source": [
        "<a href=\"https://colab.research.google.com/github/sony8306/ML/blob/main/KMeans.ipynb\" target=\"_parent\"><img src=\"https://colab.research.google.com/assets/colab-badge.svg\" alt=\"Open In Colab\"/></a>"
      ]
    },
    {
      "cell_type": "code",
      "execution_count": null,
      "metadata": {
        "colab": {
          "base_uri": "https://localhost:8080/"
        },
        "id": "-rpb2U6IUx03",
        "outputId": "9ee5e250-a5c4-4ed9-e946-3377b6fc9404"
      },
      "outputs": [
        {
          "output_type": "stream",
          "name": "stdout",
          "text": [
            "[0 0 0 1 1 1]\n"
          ]
        },
        {
          "output_type": "stream",
          "name": "stderr",
          "text": [
            "/usr/local/lib/python3.10/dist-packages/sklearn/cluster/_kmeans.py:870: FutureWarning: The default value of `n_init` will change from 10 to 'auto' in 1.4. Set the value of `n_init` explicitly to suppress the warning\n",
            "  warnings.warn(\n",
            "/usr/local/lib/python3.10/dist-packages/sklearn/cluster/_kmeans.py:1362: RuntimeWarning: Explicit initial center position passed: performing only one init in KMeans instead of n_init=10.\n",
            "  super()._check_params_vs_input(X, default_n_init=10)\n"
          ]
        }
      ],
      "source": [
        "import pandas as pd\n",
        "from sklearn.cluster import KMeans\n",
        "\n",
        "# Create a list of data points\n",
        "data = [\n",
        "    [1, 10],\n",
        "    [2, 20],\n",
        "    [3, 30],\n",
        "    [4, 40],\n",
        "    [5, 50],\n",
        "    [6, 60],\n",
        "]\n",
        "\n",
        "# Create a DataFrame\n",
        "df = pd.DataFrame(data, columns=[\"x\", \"y\"])\n",
        "\n",
        "# Define the number of clusters and initial centroids\n",
        "n_clusters = 2\n",
        "initial_centroids = [[1, 10], [2, 20]]  # Adjust these for better initialization\n",
        "\n",
        "# Create a KMeans object with initial centroids\n",
        "kmeans = KMeans(n_clusters=n_clusters, init=initial_centroids)\n",
        "\n",
        "# Fit the data to the KMeans model\n",
        "kmeans.fit(df)\n",
        "\n",
        "# Get the cluster labels\n",
        "cluster_labels = kmeans.labels_\n",
        "\n",
        "# Print the cluster labels\n",
        "print(cluster_labels)"
      ]
    }
  ]
}